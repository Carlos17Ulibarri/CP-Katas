{
 "cells": [
  {
   "cell_type": "markdown",
   "metadata": {},
   "source": [
    "# Katas - Módulo 8"
   ]
  },
  {
   "cell_type": "markdown",
   "metadata": {},
   "source": [
    "#### Creacion de diccionarios"
   ]
  },
  {
   "cell_type": "code",
   "execution_count": 9,
   "metadata": {},
   "outputs": [
    {
     "name": "stdout",
     "output_type": "stream",
     "text": [
      "Marte 2\n",
      "El planeta es: Marte con la circunferencia: 6752polar\n"
     ]
    }
   ],
   "source": [
    "planeta = { 'nombre':'Marte', 'lunas' : 2,  }\n",
    "\n",
    "print(planeta['nombre'], planeta['lunas'])\n",
    "\n",
    "planeta['circunferencia'] = {'Polar':6752, 'equatorial':6792}\n",
    "\n",
    "print(f'El planeta es: {planeta[\"nombre\"]} con la circunferencia: {planeta[\"circunferencia\"][\"Polar\"]} polar')"
   ]
  },
  {
   "cell_type": "markdown",
   "metadata": {},
   "source": [
    "#### Programacion dinamica con diccionarios"
   ]
  },
  {
   "cell_type": "code",
   "execution_count": 11,
   "metadata": {},
   "outputs": [
    {
     "name": "stdout",
     "output_type": "stream",
     "text": [
      "17.833333333333332\n"
     ]
    }
   ],
   "source": [
    "planetas_lunas = {'Mercurio':0, 'Venus':0, 'Tierra':1, 'Marte':2, 'Jupiter':79, 'Saturno':82, 'Urano':27, 'Neptuno':14, 'Pluton':5, 'Haumea':2, 'Makemake':1, 'Eris':1}\n",
    "\n",
    "Lunas= planetas_lunas.values()\n",
    "\n",
    "planetas= len(planetas_lunas.keys())\n",
    "\n",
    "Totaldelunas= 0\n",
    "for cantidad in Lunas:\n",
    "    Totaldelunas =Totaldelunas+cantidad\n",
    "\n",
    "promedio = Totaldelunas/planetas\n",
    "\n",
    "print(promedio)"
   ]
  }
 ],
 "metadata": {
  "interpreter": {
   "hash": "33541a670e8887513ebdf0f19cec6625b51694c5ef6b1c7e83282c54d5cd54e5"
  },
  "kernelspec": {
   "display_name": "Python 3.10.2 64-bit",
   "language": "python",
   "name": "python3"
  },
  "language_info": {
   "codemirror_mode": {
    "name": "ipython",
    "version": 3
   },
   "file_extension": ".py",
   "mimetype": "text/x-python",
   "name": "python",
   "nbconvert_exporter": "python",
   "pygments_lexer": "ipython3",
   "version": "3.10.2"
  },
  "orig_nbformat": 4
 },
 "nbformat": 4,
 "nbformat_minor": 2
}
