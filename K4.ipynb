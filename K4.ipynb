{
 "cells": [
  {
   "cell_type": "markdown",
   "metadata": {},
   "source": [
    "# Katas - Módulo 4"
   ]
  },
  {
   "cell_type": "markdown",
   "metadata": {},
   "source": [
    "#### Ejercicio 1: Transformar cadenas"
   ]
  },
  {
   "cell_type": "code",
   "execution_count": 17,
   "metadata": {},
   "outputs": [
    {
     "name": "stdout",
     "output_type": "stream",
     "text": [
      "['Interesting facts about the Moon', \"The Moon is Earth's only satellite\", 'There are several interesting facts about the Moon and how it affects life here on Earth', '\\nOn average, the Moon moves 4cm away from the Earth every year', 'This yearly drift is not significant enough to cause immediate effects on Earth', 'The highest daylight temperature of the Moon is 127 C.']\n"
     ]
    }
   ],
   "source": [
    "# Divición del texto de la variable\n",
    "text = \"\"\"Interesting facts about the Moon. The Moon is Earth's only satellite. There are several interesting facts about the Moon and how it affects life here on Earth. \n",
    "On average, the Moon moves 4cm away from the Earth every year. This yearly drift is not significant enough to cause immediate effects on Earth. The highest daylight temperature of the Moon is 127 C.\"\"\"\n",
    "text1 = text.split(\". \")\n",
    "print(text1)"
   ]
  },
  {
   "cell_type": "code",
   "execution_count": 18,
   "metadata": {},
   "outputs": [],
   "source": [
    "# Definición de palabras clave\n",
    "p_cl = [\"average\", \"temperature\", \"distance\"]"
   ]
  },
  {
   "cell_type": "code",
   "execution_count": 23,
   "metadata": {},
   "outputs": [
    {
     "name": "stdout",
     "output_type": "stream",
     "text": [
      "Interesting facts about the Moon\n",
      "The Moon is Earth's only satellite\n",
      "There are several interesting facts about the Moon and how it affects life here on Earth\n",
      "\n",
      "On average, the Moon moves 4cm away from the Earth every year\n",
      "This yearly drift is not significant enough to cause immediate effects on Earth\n",
      "The highest daylight temperature of the Moon is 127 C.\n"
     ]
    }
   ],
   "source": [
    "# Bucle para el recorrido de la cadena\n",
    "for p in text1:\n",
    "    for p_cl1 in p_cl:\n",
    "        if p_cl1 in p:\n",
    "            print(p)\n",
    "            break"
   ]
  },
  {
   "cell_type": "code",
   "execution_count": 24,
   "metadata": {},
   "outputs": [
    {
     "name": "stdout",
     "output_type": "stream",
     "text": [
      "Interesting facts about the Moon\n",
      "The Moon is Earth's only satellite\n",
      "There are several interesting facts about the Moon and how it affects life here on Earth\n",
      "\n",
      "On average, the Moon moves 4cm away from the Earth every year\n",
      "This yearly drift is not significant enough to cause immediate effects on Earth\n",
      "The highest daylight temperature of the Moon is 127 Celsius.\n"
     ]
    }
   ],
   "source": [
    "# Bucle actualizado para cambiar C a Celsius\n",
    "for p in text1:\n",
    "    for p_cl1 in p_cl:\n",
    "        if p_cl1 in p:\n",
    "            print(p.replace('C', 'Celsius'))\n",
    "            break"
   ]
  },
  {
   "cell_type": "markdown",
   "metadata": {},
   "source": [
    "#### Ejercicio 2: Formateo de cadenas"
   ]
  },
  {
   "cell_type": "code",
   "execution_count": 68,
   "metadata": {},
   "outputs": [],
   "source": [
    "# Datos\n",
    "g = 0.00162\n",
    "p = 'Tierra'\n",
    "n = 'Luna'"
   ]
  },
  {
   "cell_type": "code",
   "execution_count": 69,
   "metadata": {},
   "outputs": [
    {
     "name": "stdout",
     "output_type": "stream",
     "text": [
      "La gravedad de la Luna\n"
     ]
    }
   ],
   "source": [
    "# Título\n",
    "t = f'La gravedad de la {n}'\n",
    "print(t)\n"
   ]
  },
  {
   "cell_type": "code",
   "execution_count": 70,
   "metadata": {},
   "outputs": [
    {
     "name": "stdout",
     "output_type": "stream",
     "text": [
      "\n",
      "Planeta: Tierra\n",
      "Gravedad: 1.6199999999999999 m/s2\n",
      "Nombre: Luna\n",
      "\n"
     ]
    }
   ],
   "source": [
    "# Plantilla \n",
    "plant = f\"\"\"\n",
    "Planeta: {p}\n",
    "Gravedad: {g * 1000} m/s2\n",
    "Nombre: {n}\n",
    "\"\"\"\n",
    "print(plant)"
   ]
  },
  {
   "cell_type": "code",
   "execution_count": 71,
   "metadata": {},
   "outputs": [
    {
     "name": "stdout",
     "output_type": "stream",
     "text": [
      "La Gravedad De La Luna\n",
      "\n",
      "Planeta: Tierra\n",
      "Gravedad: 1.6199999999999999 m/s2\n",
      "Nombre: Luna\n",
      "\n",
      "\n"
     ]
    }
   ],
   "source": [
    "# Unión de ambas cadenas\n",
    "plant1 = f\"\"\"{t.title()}\n",
    "{plant}\n",
    "\"\"\"\n",
    "print(plant1)\n"
   ]
  },
  {
   "cell_type": "code",
   "execution_count": 74,
   "metadata": {},
   "outputs": [
    {
     "name": "stdout",
     "output_type": "stream",
     "text": [
      "\n",
      "Planeta: Tierra\n",
      "Gravedad: 1.6199999999999999 m/s2\n",
      "Nombre: Luna\n",
      "\n"
     ]
    }
   ],
   "source": [
    "# Nuevaos datos muestra\n",
    "p = 'Marte'\n",
    "g = 0.00143\n",
    "n = 'Ganímedes' \n",
    "\n",
    "print(plant)"
   ]
  },
  {
   "cell_type": "code",
   "execution_count": 76,
   "metadata": {},
   "outputs": [
    {
     "name": "stdout",
     "output_type": "stream",
     "text": [
      "\n",
      "Planeta: Marte\n",
      "Gravedad: 0.00143 m/s2\n",
      "Nombre: Ganímedes\n",
      "\n"
     ]
    }
   ],
   "source": [
    "# Nueva plantilla \n",
    "n_plant = \"\"\"\n",
    "Planeta: {p}\n",
    "Gravedad: {g} m/s2\n",
    "Nombre: {n}\n",
    "\"\"\"\n",
    "\n",
    "print(n_plant.format(p = p, g = g, n = n ))"
   ]
  },
  {
   "cell_type": "code",
   "execution_count": 77,
   "metadata": {},
   "outputs": [
    {
     "name": "stdout",
     "output_type": "stream",
     "text": [
      "\n",
      "Planeta: Marte\n",
      "Gravedad: 1.4300000000000002 m/s2\n",
      "Nombre: Ganímedes\n",
      "\n"
     ]
    }
   ],
   "source": [
    "n_plant = \"\"\"\n",
    "Planeta: {p}\n",
    "Gravedad: {g} m/s2\n",
    "Nombre: {n}\n",
    "\"\"\"\n",
    "\n",
    "print(n_plant.format(p = p, g = g * 1000, n = n ))"
   ]
  }
 ],
 "metadata": {
  "interpreter": {
   "hash": "ad0a4b94a7dc4a47585a907afa6c450aa570e46235e25ba0b2ced0299bb46753"
  },
  "kernelspec": {
   "display_name": "Python 3.10.2 64-bit",
   "language": "python",
   "name": "python3"
  },
  "language_info": {
   "codemirror_mode": {
    "name": "ipython",
    "version": 3
   },
   "file_extension": ".py",
   "mimetype": "text/x-python",
   "name": "python",
   "nbconvert_exporter": "python",
   "pygments_lexer": "ipython3",
   "version": "3.10.2"
  },
  "orig_nbformat": 4
 },
 "nbformat": 4,
 "nbformat_minor": 2
}
