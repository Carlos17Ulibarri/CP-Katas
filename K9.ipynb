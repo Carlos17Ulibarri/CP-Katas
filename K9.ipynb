{
 "cells": [
  {
   "cell_type": "markdown",
   "metadata": {},
   "source": [
    "# Katas - Módulo 9"
   ]
  },
  {
   "cell_type": "markdown",
   "metadata": {},
   "source": [
    "#### Funciones en python"
   ]
  },
  {
   "cell_type": "code",
   "execution_count": 3,
   "metadata": {},
   "outputs": [
    {
     "name": "stdout",
     "output_type": "stream",
     "text": [
      "30.0\n"
     ]
    }
   ],
   "source": [
    "\n",
    "def lectura_combustible(Tanque1, Tanque2, Tanque3):\n",
    "    promedio= (Tanque1 + Tanque2 + Tanque3)/ 3\n",
    "    return promedio\n",
    "\n",
    "lectura_combustible(50, 10, 30)\n",
    "\n",
    "def mostrar_prom(promedio):\n",
    "    print(promedio)"
   ]
  },
  {
   "cell_type": "markdown",
   "metadata": {},
   "source": [
    "#### Argumentos de palabra clave"
   ]
  },
  {
   "cell_type": "code",
   "execution_count": 15,
   "metadata": {},
   "outputs": [
    {
     "name": "stdout",
     "output_type": "stream",
     "text": [
      "Hora de lanzamiento: 10 hrs \n",
      "tiempo de vuelo: 5 dias \n",
      "destino: Marte \n",
      "tanque exterior: 50 \n",
      "tanque interior 20\n"
     ]
    }
   ],
   "source": [
    "def info_mision(hora_prelanz, tiempo_vuel, destino, tanque_ext, tanque_int):\n",
    "    return f\"\"\"Hora de lanzamiento: {hora_prelanz} hrs \\ntiempo de vuelo: {tiempo_vuel} dias \\ndestino: {destino} \\ntanque exterior: {tanque_ext} \\ntanque interior {tanque_int}\"\"\"\n",
    "\n",
    "print(info_mision(10 , 5 , 'Marte', 50, 20))"
   ]
  }
 ],
 "metadata": {
  "interpreter": {
   "hash": "33541a670e8887513ebdf0f19cec6625b51694c5ef6b1c7e83282c54d5cd54e5"
  },
  "kernelspec": {
   "display_name": "Python 3.10.2 64-bit",
   "language": "python",
   "name": "python3"
  },
  "language_info": {
   "codemirror_mode": {
    "name": "ipython",
    "version": 3
   },
   "file_extension": ".py",
   "mimetype": "text/x-python",
   "name": "python",
   "nbconvert_exporter": "python",
   "pygments_lexer": "ipython3",
   "version": "3.10.2"
  },
  "orig_nbformat": 4
 },
 "nbformat": 4,
 "nbformat_minor": 2
}
