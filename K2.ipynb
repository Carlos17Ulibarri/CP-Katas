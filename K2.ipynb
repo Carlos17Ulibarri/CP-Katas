{
 "cells": [
  {
   "cell_type": "markdown",
   "metadata": {},
   "source": [
    "# Katas - Módulo 2\n",
    "\n",
    "### Ejercicio - Crear un paquete"
   ]
  },
  {
   "cell_type": "markdown",
   "metadata": {},
   "source": [
    "#### Crear un entorno virtual\n",
    "\n",
    "[![Cap1-K2.png](https://i.postimg.cc/wMKWNpnc/Cap1-K2.png)](https://postimg.cc/34BCMP8d)"
   ]
  },
  {
   "cell_type": "markdown",
   "metadata": {},
   "source": [
    "#### Instalar una biblioteca\n",
    "\n",
    "[![Cap2-K2.png](https://i.postimg.cc/Y2VQR72Q/Cap2-K2.png)](https://postimg.cc/3WXyrPvw)"
   ]
  },
  {
   "cell_type": "markdown",
   "metadata": {},
   "source": [
    "#### Desactivar un entorno virtual\n",
    "\n",
    "[![Cap3-K2.png](https://i.postimg.cc/NfkmcH7k/Cap3-K2.png)](https://postimg.cc/RNqN1qYW)"
   ]
  }
 ],
 "metadata": {
  "language_info": {
   "name": "python"
  },
  "orig_nbformat": 4
 },
 "nbformat": 4,
 "nbformat_minor": 2
}
