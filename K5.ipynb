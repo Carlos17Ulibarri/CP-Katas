{
 "cells": [
  {
   "cell_type": "markdown",
   "metadata": {},
   "source": [
    "# Katas - Módulo 5"
   ]
  },
  {
   "cell_type": "markdown",
   "metadata": {},
   "source": [
    "#### Ejercicio 1: Utilizar operadores aritméticos"
   ]
  },
  {
   "cell_type": "code",
   "execution_count": 5,
   "metadata": {},
   "outputs": [
    {
     "name": "stdout",
     "output_type": "stream",
     "text": [
      "628949330 km\n"
     ]
    }
   ],
   "source": [
    "# Creación de variables para almacenar las distancias\n",
    "T = 149597870 \n",
    "J = 778547200\n",
    "\n"
   ]
  },
  {
   "cell_type": "code",
   "execution_count": 7,
   "metadata": {},
   "outputs": [
    {
     "name": "stdout",
     "output_type": "stream",
     "text": [
      "km: 628949330\n",
      "millas: 390577533.93\n"
     ]
    }
   ],
   "source": [
    "# Calculo de la distancia \n",
    "print('km: ' + str(abs(T-J)))\n",
    "\n",
    "print('millas: ' + str(abs((T-J)*0.621)))\n",
    "\n"
   ]
  },
  {
   "cell_type": "markdown",
   "metadata": {},
   "source": [
    "Ejercicio 2: convierte cadenas en números y usa valores absolutos"
   ]
  },
  {
   "cell_type": "code",
   "execution_count": 15,
   "metadata": {},
   "outputs": [
    {
     "name": "stdout",
     "output_type": "stream",
     "text": [
      "km: 50300000\n",
      "millas: 31236300.0\n"
     ]
    }
   ],
   "source": [
    "# Crear una aplicación para trabajar con números y entrada de usuario\n",
    "# Lee los valores\n",
    "input()\n",
    "p1 = input(\"Introduzca la distancia del primer planeta: \")\n",
    "p2 = input(\"Introduzca la distancia del segundo planeta: \")\n",
    "#print(p1 + \"\\n\" + p2)\n",
    "\n",
    "# Convertir a número\n",
    "p1_1 = int(p1)\n",
    "p2_1 = int(p2)\n",
    "# print(p1_1)\n",
    "# print(p2_1)\n",
    "\n",
    "# Calculo \n",
    "d = abs(p1_1 - p2_1)\n",
    "\n",
    "# Conversión a millas\n",
    "d1 = d * 0.621\n",
    "\n",
    "print(\"km: \" + str(d))\n",
    "print(\"millas: \" + str(d1))\n"
   ]
  }
 ],
 "metadata": {
  "interpreter": {
   "hash": "ad0a4b94a7dc4a47585a907afa6c450aa570e46235e25ba0b2ced0299bb46753"
  },
  "kernelspec": {
   "display_name": "Python 3.10.2 64-bit",
   "language": "python",
   "name": "python3"
  },
  "language_info": {
   "codemirror_mode": {
    "name": "ipython",
    "version": 3
   },
   "file_extension": ".py",
   "mimetype": "text/x-python",
   "name": "python",
   "nbconvert_exporter": "python",
   "pygments_lexer": "ipython3",
   "version": "3.10.2"
  },
  "orig_nbformat": 4
 },
 "nbformat": 4,
 "nbformat_minor": 2
}
