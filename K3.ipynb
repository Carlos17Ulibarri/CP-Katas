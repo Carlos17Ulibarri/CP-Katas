{
 "cells": [
  {
   "cell_type": "markdown",
   "metadata": {},
   "source": [
    "# Katas - Módulo 3"
   ]
  },
  {
   "cell_type": "markdown",
   "metadata": {},
   "source": [
    "#### Ejercicio - Escribir declaraciones if, else, y elif"
   ]
  },
  {
   "cell_type": "code",
   "execution_count": 9,
   "metadata": {},
   "outputs": [
    {
     "name": "stdout",
     "output_type": "stream",
     "text": [
      "Peligro inmiente: Asteoride cerca del plaeta Tierra\n"
     ]
    }
   ],
   "source": [
    "#Imprimir la advertencia si un asteoride se acerca a la Tierra demasiado rápido. La velocidad del asteroide varía dependiendo de lo cerca que esté el sol, y cualquier velocidad supeperior a 25 kilómetros por segundo (km/s) merece una advertencia.\n",
    "    #Añadir el código necesario para crear una variable que guarde la velocidad del asteroide.\n",
    "    # Escribe una expresión de prueba para calcular si necesita una advertencia.\n",
    "    # Agregue las instrucciones que se ejecutarán si la expresión de prueba es true o false.\n",
    "\n",
    "velast = 49 # Un asteroide se acerca, y viaja a una velocidad de 49 km/s.\n",
    "\n",
    "if velast > 25:\n",
    "    print(\"Peligro inmiente: Asteoride cerca del planeta Tierra\")\n",
    "else:\n",
    "    print(\"No hay peligro alguno\")\n",
    "\n"
   ]
  },
  {
   "cell_type": "code",
   "execution_count": 11,
   "metadata": {},
   "outputs": [
    {
     "name": "stdout",
     "output_type": "stream",
     "text": [
      "El asteoride pasara cerca de la atmósfera pero no logrará generar un rayo\n"
     ]
    }
   ],
   "source": [
    "# Si un asteroide entra en la atmósfera de la Tierra a una velocidad mayor o igual a 20 km/s, a veces produce un rayo de luz que se puede ver desde la Tierra. Escribe la lógica condicional que usa declaraciones if, else, y elif para alertar a las personas de todo el mundo que deben buscar un asteroide en el cielo. ¡Hay uno que se dirige a la tierra ahora a una velocidad de 19 km/s!\n",
    "    # Agrega el código para crear una variable para un asteroide que viaja a 19 km/s\n",
    "    # Escribe varias expresiones de prueba para determinar si puedes ver el rayo de luz desde la tierra\n",
    "    # Agrega las instrucciones que se ejecutarán si las expresiones de prueba son True o False\n",
    "\n",
    "vast = 19\n",
    "\n",
    "if vast > 20:\n",
    "    print(\"Atención: Vean el cielo en los prxóimos minutos, podrán preseciar un espectáculo\")\n",
    "elif vast == 20:\n",
    "    print(\"Atención: Vean el cielo en los prxóimos minutos, podrán preseciar un espectáculo\")\n",
    "else:\n",
    "    print(\"El asteoride pasara cerca de la atmósfera pero no logrará generar un rayo\")   "
   ]
  },
  {
   "cell_type": "markdown",
   "metadata": {},
   "source": [
    "#### Ejercicio 2: Uso de operadores and y or"
   ]
  },
  {
   "cell_type": "code",
   "execution_count": 13,
   "metadata": {},
   "outputs": [
    {
     "name": "stdout",
     "output_type": "stream",
     "text": [
      "El Asteroide no genera peligro alguno\n",
      "Puede que solo genere un rayo de luz el Asteroide al entrar en la atmósfera\n"
     ]
    }
   ],
   "source": [
    "# Los asteroides de menos de 25 metros en su dimensión más grande probablemente se quemarán a medida que entren en la atmósfera de la Tierra. \n",
    "# Si una pieza de un asteroide que es más grande que 25 metros pero más pequeña que 1000 metros golpeara la Tierra, causaría mucho daño.\n",
    "# La velocidad del asteroide varía en función de lo cerca que esté del sol, y cualquier velocidad superior a 25 kilómetros por segundo (km/s) merece una advertencia.\n",
    "# Si un asteroide entra en la atmósfera de la Tierra a una velocidad mayor o igual a 20 km/s, a veces produce un rayo de luz que se puede ver desde la Tierra.\n",
    "\n",
    "# Usando toda la informació anterior, escribe un programa que emita la advertencia o información correcta a la gente de la Tierra, según la velocidad y el tamaño de un asteroide. Utiliza instrucciones if, else, y elif, así como los operadores and y or.\n",
    "    # Agrega el código para crear nuevas variables para la velocidad y el tamaño del asteroide\n",
    "    # Para probar el código, prueba con varias velocidades y tamaños\n",
    "    # Escribe varias expresiones de prueba o combinaciones de expresiones de prueba para determinar qué mensaje se debe enviar a Tierra.\n",
    "\n",
    "vA = 60\n",
    "tA = 10\n",
    "\n",
    "if vA > 25 and (tA > 25 and tA < 1000):\n",
    "    print(\"Peligo inminente: Asteroide acercandose a la tierra a una velocidad y tamaño considerable para generar un gran daño, ¡Esten preparados!\")\n",
    "elif vA > 25 and tA < 25:\n",
    "    print(\"El Asteroide no genera peligro alguno\")\n",
    "\n",
    "    if vA >= 20:\n",
    "        print(\"Puede que solo genere un rayo de luz el Asteroide al entrar en la atmósfera\")\n",
    "else:\n",
    "    print(\"No habra acontencimiento alguno\")\n",
    "\n",
    "\n"
   ]
  }
 ],
 "metadata": {
  "interpreter": {
   "hash": "ad0a4b94a7dc4a47585a907afa6c450aa570e46235e25ba0b2ced0299bb46753"
  },
  "kernelspec": {
   "display_name": "Python 3.10.2 64-bit",
   "language": "python",
   "name": "python3"
  },
  "language_info": {
   "codemirror_mode": {
    "name": "ipython",
    "version": 3
   },
   "file_extension": ".py",
   "mimetype": "text/x-python",
   "name": "python",
   "nbconvert_exporter": "python",
   "pygments_lexer": "ipython3",
   "version": "3.10.2"
  },
  "orig_nbformat": 4
 },
 "nbformat": 4,
 "nbformat_minor": 2
}
