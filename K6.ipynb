{
 "cells": [
  {
   "cell_type": "markdown",
   "metadata": {},
   "source": [
    "# Katas - Módulo 6 "
   ]
  },
  {
   "cell_type": "markdown",
   "metadata": {},
   "source": [
    "#### Ejercicio 1: Crear y usar listas de Python"
   ]
  },
  {
   "cell_type": "code",
   "execution_count": 2,
   "metadata": {},
   "outputs": [],
   "source": [
    "# Creación de variable y insercón de planetas\n",
    "\n",
    "planets = ['Mercurio', 'Venus', 'Tierra', 'Marte', 'Saturno', 'Jupiter', 'Uranio', 'Neptuno']"
   ]
  },
  {
   "cell_type": "code",
   "execution_count": 4,
   "metadata": {},
   "outputs": [
    {
     "name": "stdout",
     "output_type": "stream",
     "text": [
      "Planetas:  ['Mercurio', 'Venus', 'Tierra', 'Marte', 'Saturno', 'Jupiter', 'Uranio', 'Neptuno', 'Plutón', 'Plutón']\n",
      "\n",
      " Número de planetas:  10\n",
      "\n",
      " El último planeta es:  Plutón\n"
     ]
    }
   ],
   "source": [
    "# Adición del planeta plutón\n",
    "planets.append('Plutón')\n",
    "print('Planetas: ',planets)\n",
    "# Número de planetas\n",
    "np = len(planets)\n",
    "print('\\n','Número de planetas: ',np)\n",
    "# Último planeta de la lista\n",
    "print('\\n','El último planeta es: ',planets[-1])"
   ]
  },
  {
   "cell_type": "markdown",
   "metadata": {},
   "source": [
    "#### Ejercicio 2: Trabajando con datos de una lista"
   ]
  },
  {
   "cell_type": "code",
   "execution_count": 5,
   "metadata": {},
   "outputs": [],
   "source": [
    "# Lista de planetas\n",
    "planets1 = ['Mercury', 'Venus', 'Earth', 'Mars', 'Jupiter', 'Saturn', 'Neptune']\n"
   ]
  },
  {
   "cell_type": "code",
   "execution_count": 6,
   "metadata": {},
   "outputs": [],
   "source": [
    "# Solicitud al usuario de un nombre de planeta\n",
    "input()\n",
    "p = input(\"Introduzca el planeta deseado (empezando con la primera letra en mayuscula): \")"
   ]
  },
  {
   "cell_type": "code",
   "execution_count": 7,
   "metadata": {},
   "outputs": [],
   "source": [
    "# Busqueda del planeta en la lista\n",
    "s_p = planets1.index(p)"
   ]
  },
  {
   "cell_type": "code",
   "execution_count": 8,
   "metadata": {},
   "outputs": [
    {
     "name": "stdout",
     "output_type": "stream",
     "text": [
      "['Mercury', 'Venus']\n"
     ]
    }
   ],
   "source": [
    "# Mostrando planetas más cercanos al sol\n",
    "print(planets1[0:s_p])"
   ]
  },
  {
   "cell_type": "code",
   "execution_count": 9,
   "metadata": {},
   "outputs": [
    {
     "name": "stdout",
     "output_type": "stream",
     "text": [
      "['Mars', 'Jupiter', 'Saturn', 'Neptune']\n"
     ]
    }
   ],
   "source": [
    "# Mostrando planetas más lejanos al sol\n",
    "print(planets1[s_p + 1:])"
   ]
  }
 ],
 "metadata": {
  "interpreter": {
   "hash": "ad0a4b94a7dc4a47585a907afa6c450aa570e46235e25ba0b2ced0299bb46753"
  },
  "kernelspec": {
   "display_name": "Python 3.10.2 64-bit",
   "language": "python",
   "name": "python3"
  },
  "language_info": {
   "codemirror_mode": {
    "name": "ipython",
    "version": 3
   },
   "file_extension": ".py",
   "mimetype": "text/x-python",
   "name": "python",
   "nbconvert_exporter": "python",
   "pygments_lexer": "ipython3",
   "version": "3.10.2"
  },
  "orig_nbformat": 4
 },
 "nbformat": 4,
 "nbformat_minor": 2
}
